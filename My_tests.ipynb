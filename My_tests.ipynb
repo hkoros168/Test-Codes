{
  "nbformat": 4,
  "nbformat_minor": 0,
  "metadata": {
    "colab": {
      "provenance": [],
      "authorship_tag": "ABX9TyM8q48+xdu16T7XzPQwJkgQ",
      "include_colab_link": true
    },
    "kernelspec": {
      "name": "python3",
      "display_name": "Python 3"
    },
    "language_info": {
      "name": "python"
    }
  },
  "cells": [
    {
      "cell_type": "markdown",
      "metadata": {
        "id": "view-in-github",
        "colab_type": "text"
      },
      "source": [
        "<a href=\"https://colab.research.google.com/github/hkoros168/Test-Codes/blob/main/My_tests.ipynb\" target=\"_parent\"><img src=\"https://colab.research.google.com/assets/colab-badge.svg\" alt=\"Open In Colab\"/></a>"
      ]
    },
    {
      "cell_type": "code",
      "execution_count": null,
      "metadata": {
        "id": "hTf8IUQSPd0M"
      },
      "outputs": [],
      "source": [
        "import random\n",
        "\n",
        "aliens=[]\n",
        "alien_number=[]\n",
        "\n",
        "for aliennum in range (10):\n",
        "  \"\"\"must initialize a new_alien dictionary here, since you want a blank profile before appending it to list.\"\"\"\n",
        "  new_alien={}\n",
        "  new_alien_number=random.randint(1,100)\n",
        "  while new_alien_number in alien_number:\n",
        "    new_alien_number=random.randint(1,100)\n",
        "  new_alien['number']=new_alien_number\n",
        "  new_alien['color']='green'\n",
        "  new_alien['sex']=random.choice(['male','female'])\n",
        "  alien_number.append(new_alien_number)\n",
        "  aliens.append(new_alien)\n",
        "\n",
        "print(len(aliens))\n",
        "for alien in aliens:\n",
        "  print(alien)\n",
        "print(\"Done!\")"
      ]
    },
    {
      "cell_type": "code",
      "source": [
        "dogs5 = 7\n",
        "\n",
        "class Dogs():\n",
        "  def __init__(self,dogs):\n",
        "    self.dogs5 = dogs5 + 1\n",
        "    print(self.dogs5)\n",
        "\n",
        "print(dogs5)\n",
        "Dogs(dogs5)\n",
        "print(dogs5)"
      ],
      "metadata": {
        "colab": {
          "base_uri": "https://localhost:8080/"
        },
        "id": "xoB3ZzvxxjYv",
        "outputId": "c2f6e46c-9bb1-40e7-d6ce-25155b715169"
      },
      "execution_count": null,
      "outputs": [
        {
          "output_type": "stream",
          "name": "stdout",
          "text": [
            "7\n",
            "8\n",
            "7\n"
          ]
        }
      ]
    },
    {
      "cell_type": "code",
      "source": [
        "dogs = 4\n",
        "\n",
        "def add_dog(dog):\n",
        "  dog += 2\n",
        "  return dog\n",
        "\n",
        "print(dogs)\n",
        "add_dog(dogs)\n",
        "add_dog(dogs)"
      ],
      "metadata": {
        "colab": {
          "base_uri": "https://localhost:8080/"
        },
        "id": "a24LqC860LnB",
        "outputId": "304bf7ac-cbba-415a-af83-1a13826f7b17"
      },
      "execution_count": null,
      "outputs": [
        {
          "output_type": "stream",
          "name": "stdout",
          "text": [
            "4\n"
          ]
        },
        {
          "output_type": "execute_result",
          "data": {
            "text/plain": [
              "6"
            ]
          },
          "metadata": {},
          "execution_count": 25
        }
      ]
    },
    {
      "cell_type": "code",
      "source": [
        "Dogs=[]\n",
        "Dogs.append('willie')\n",
        "Dogs.append('hootz')\n",
        "Dogs.append('peso')\n",
        "\n",
        "for Dog in Dogs:\n",
        "  print(\"I love \"+Dog+\".\")\n",
        "\n",
        "for Dog in Dogs[:2]:\n",
        "  print(\"first two dogs: \"+Dog)\n",
        "\n",
        "del Dogs[2]\n",
        "Dogs.remove('hootz')\n",
        "print(Dogs)"
      ],
      "metadata": {
        "id": "qbQC-2C2oVq4"
      },
      "execution_count": null,
      "outputs": []
    },
    {
      "cell_type": "code",
      "source": [
        "Banned_users = ['Eve', 'Fred']\n",
        "Players=[]\n",
        "while True:\n",
        "  Newplayer = input(\"Please enter a new player, quit to quit\")\n",
        "  if Newplayer == 'quit':\n",
        "    break\n",
        "  elif Newplayer in Banned_users:\n",
        "    print(\"He's banned\")\n",
        "    continue\n",
        "  else:\n",
        "    Players.append(Newplayer)\n",
        "print(Players)"
      ],
      "metadata": {
        "id": "L84m0SZQxtx5"
      },
      "execution_count": null,
      "outputs": []
    },
    {
      "cell_type": "code",
      "source": [
        "def print_models (unprinted, printed):\n",
        "  while unprinted:\n",
        "    done = unprinted.pop()\n",
        "    printed.append(done)\n",
        "\n",
        "\n",
        "original = ['phone case','pendant']\n",
        "printed = []\n",
        "print_models(original[:], printed)\n",
        "print(original)\n",
        "print(printed)"
      ],
      "metadata": {
        "id": "YUNDM5l7BGot"
      },
      "execution_count": null,
      "outputs": []
    },
    {
      "cell_type": "code",
      "source": [
        "def build_profile(first, last, **others):\n",
        "  profile={'first':first,\"last\":last}\n",
        "  for key, value in others.items():\n",
        "    profile[key]=value\n",
        "  return profile\n",
        "user_0=build_profile('albert','einsten')\n",
        "user_1=build_profile('marv','chung',hair='black',eyes='green')\n",
        "print(user_0)\n",
        "print(user_1)"
      ],
      "metadata": {
        "id": "K4AqNFSMDLSU"
      },
      "execution_count": null,
      "outputs": []
    },
    {
      "cell_type": "code",
      "source": [
        "from google.colab import drive\n",
        "drive.mount('/content/drive')\n",
        "import sys\n",
        "sys.path.insert(0,'/content/drive/My Drive/ColabNotebooks')\n",
        "\n",
        "import pizza"
      ],
      "metadata": {
        "id": "_mi03bL9gtg9"
      },
      "execution_count": null,
      "outputs": []
    },
    {
      "cell_type": "code",
      "source": [
        "class User:\n",
        "  def __init__(self,first_name, last_name, age):\n",
        "    self.first_name = first_name\n",
        "    self.last_name = last_name\n",
        "    self.age = age\n",
        "    self.login_attempts = 0\n",
        "\n",
        "  def describe_user(self):\n",
        "    print(f\"This person has {self.first_name} {self.last_name} and is {self.age}. Has {self.login_attempts} login attemps.\")\n",
        "\n",
        "  def increment_login_attempts(self):\n",
        "    self.login_attempts += 1\n",
        "\n",
        "  def reset_login_attempts(self):\n",
        "    self.login_attempts = 0\n",
        "\n",
        "\n",
        "class Admin(User):\n",
        "  def __init__(self,first_name, last_name, age):\n",
        "    super().__init__(first_name, last_name, age)\n",
        "    self.privileges = Privileges()\n",
        "\n",
        "\n",
        "class Privileges:\n",
        "  def __init__(self, privileges2=['Can crop','Install files']):\n",
        "    self.privileges2=privileges2\n",
        "  def show_privileges(self):\n",
        "    print(f\"This admin can {self.privileges2}.\")\n",
        "\n",
        "person = User(\"Chu\",\"Joey\",16)\n",
        "print(person.first_name,person.age)\n",
        "person.describe_user()\n",
        "\n",
        "person.increment_login_attempts()\n",
        "person.increment_login_attempts()\n",
        "person.describe_user()\n",
        "person.reset_login_attempts()\n",
        "person.describe_user()\n",
        "\n",
        "adminperson = Admin(\"William\", \"Barrack\", 45)\n",
        "adminperson.describe_user()\n",
        "adminperson.privileges.show_privileges()"
      ],
      "metadata": {
        "id": "2hitJnVr534N"
      },
      "execution_count": null,
      "outputs": []
    },
    {
      "cell_type": "code",
      "source": [
        "import random\n",
        "\n",
        "class Die:\n",
        "  def __init__(self,sides=6):\n",
        "    self.sides = sides\n",
        "\n",
        "  def roll_die(self):\n",
        "    rolled = random.randint(1,self.sides)\n",
        "    print(f\"You rolled a {rolled}!\")\n",
        "\n",
        "\"\"\"create objects/instances\"\"\"\n",
        "mydice6 = Die()\n",
        "mydice100 = Die(100)\n",
        "\"\"\"call objects' method\"\"\"\n",
        "mydice6.roll_die()\n",
        "mydice100.roll_die()"
      ],
      "metadata": {
        "id": "lTXg1Zuu515j"
      },
      "execution_count": null,
      "outputs": []
    },
    {
      "cell_type": "code",
      "source": [
        "def initialize(context):\n",
        "    # Which stock to trade\n",
        "    context.stock = symbol('AAPL')\n",
        "    # Moving average window\n",
        "    context.index_average_window = 100\n",
        "\n",
        "def yoyo(good):\n",
        "  good.stock = \"afsf\"\n",
        "\n",
        "class Yoyo:\n",
        "  pass\n",
        "\n",
        "def f1(yo1yo):\n",
        "    \"\"\"a = yo1yo.azz\n",
        "    print(\"a:\", a)\"\"\"\n",
        "    print(yo1yo.azz)\n",
        "\n",
        "d = Yoyo()\n",
        "Yoyo.azz = 1\n",
        "\t\n",
        "f1(d)"
      ],
      "metadata": {
        "id": "HvEUws_nzG9W"
      },
      "execution_count": null,
      "outputs": []
    },
    {
      "cell_type": "code",
      "source": [
        "class Yoyo():\n",
        "    pass\n",
        "\n",
        "def f2(yo1yo):\n",
        "    print(yo1yo.azz)\n",
        "\n",
        "\"\"\"d = Yoyo()\"\"\"\n",
        "Yoyo()\n",
        "Yoyo.azz = 'ggg'\n",
        "f2(Yoyo())"
      ],
      "metadata": {
        "colab": {
          "base_uri": "https://localhost:8080/"
        },
        "id": "5tWbsTpePhNg",
        "outputId": "9525b646-0a1b-4d2b-9b4f-80e90ca7a1ad"
      },
      "execution_count": null,
      "outputs": [
        {
          "output_type": "stream",
          "name": "stdout",
          "text": [
            "ggg\n"
          ]
        }
      ]
    },
    {
      "cell_type": "code",
      "source": [
        "def ztozo():\n",
        "  pass\n",
        "\n",
        "ztozo.azz = 25\n",
        "ztozo.azz"
      ],
      "metadata": {
        "id": "FB-e7w6Rh1CN"
      },
      "execution_count": null,
      "outputs": []
    },
    {
      "cell_type": "code",
      "source": [
        "empty =[]\n",
        "def g1(x):\n",
        "    g1.author = 'sunder'\n",
        "    g1.language = 'Python'\n",
        "    print(x,g1.author,g1.language)\n",
        "    empty.append(x)\n",
        "\n",
        "g1(5)\n",
        "g1(\"hi\")\n",
        "print(empty)"
      ],
      "metadata": {
        "colab": {
          "base_uri": "https://localhost:8080/"
        },
        "id": "k2fXxXjMwfIs",
        "outputId": "c4b7b5aa-8a52-4a3c-ec86-e196f303c2e0"
      },
      "execution_count": null,
      "outputs": [
        {
          "output_type": "stream",
          "name": "stdout",
          "text": [
            "5 sunder Python\n",
            "hi sunder Python\n",
            "[5, 'hi']\n"
          ]
        }
      ]
    },
    {
      "cell_type": "code",
      "source": [
        "class Baby(object):\n",
        "  def __init__(self):\n",
        "    self.name = \"girl\"\n",
        "    print(self.name)\n",
        "\n",
        "Sak = Baby()\n",
        "Sak"
      ],
      "metadata": {
        "colab": {
          "base_uri": "https://localhost:8080/"
        },
        "id": "XNwavVmeghJk",
        "outputId": "d2324cee-baa3-429e-8367-fa8d53e49291"
      },
      "execution_count": null,
      "outputs": [
        {
          "output_type": "stream",
          "name": "stdout",
          "text": [
            "girl\n"
          ]
        },
        {
          "output_type": "execute_result",
          "data": {
            "text/plain": [
              "<__main__.Baby at 0x7f5119724950>"
            ]
          },
          "metadata": {},
          "execution_count": 4
        }
      ]
    },
    {
      "cell_type": "code",
      "source": [
        "class A:\n",
        "    def __init__(self, n='Rahfful'):\n",
        "        self.name = n\n",
        " \n",
        " \n",
        "class B(A):\n",
        "    def __init__(self, roll):\n",
        "        self.roll = roll\n",
        "        A.__init__(self, name)\n",
        " \n",
        " \n",
        "object = B(23)\n",
        "print(object.name, object.roll)"
      ],
      "metadata": {
        "colab": {
          "base_uri": "https://localhost:8080/",
          "height": 339
        },
        "id": "gzv3DrLrC4MH",
        "outputId": "e5bb5780-fa43-4e24-e9f8-168facd6612b"
      },
      "execution_count": null,
      "outputs": [
        {
          "output_type": "error",
          "ename": "NameError",
          "evalue": "ignored",
          "traceback": [
            "\u001b[0;31m---------------------------------------------------------------------------\u001b[0m",
            "\u001b[0;31mNameError\u001b[0m                                 Traceback (most recent call last)",
            "\u001b[0;32m<ipython-input-1-fdfeb5cae396>\u001b[0m in \u001b[0;36m<module>\u001b[0;34m\u001b[0m\n\u001b[1;32m     10\u001b[0m \u001b[0;34m\u001b[0m\u001b[0m\n\u001b[1;32m     11\u001b[0m \u001b[0;34m\u001b[0m\u001b[0m\n\u001b[0;32m---> 12\u001b[0;31m \u001b[0mobject\u001b[0m \u001b[0;34m=\u001b[0m \u001b[0mB\u001b[0m\u001b[0;34m(\u001b[0m\u001b[0;36m23\u001b[0m\u001b[0;34m)\u001b[0m\u001b[0;34m\u001b[0m\u001b[0;34m\u001b[0m\u001b[0m\n\u001b[0m\u001b[1;32m     13\u001b[0m \u001b[0mprint\u001b[0m\u001b[0;34m(\u001b[0m\u001b[0mobject\u001b[0m\u001b[0;34m.\u001b[0m\u001b[0mname\u001b[0m\u001b[0;34m,\u001b[0m \u001b[0mobject\u001b[0m\u001b[0;34m.\u001b[0m\u001b[0mroll\u001b[0m\u001b[0;34m)\u001b[0m\u001b[0;34m\u001b[0m\u001b[0;34m\u001b[0m\u001b[0m\n",
            "\u001b[0;32m<ipython-input-1-fdfeb5cae396>\u001b[0m in \u001b[0;36m__init__\u001b[0;34m(self, roll)\u001b[0m\n\u001b[1;32m      7\u001b[0m     \u001b[0;32mdef\u001b[0m \u001b[0m__init__\u001b[0m\u001b[0;34m(\u001b[0m\u001b[0mself\u001b[0m\u001b[0;34m,\u001b[0m \u001b[0mroll\u001b[0m\u001b[0;34m)\u001b[0m\u001b[0;34m:\u001b[0m\u001b[0;34m\u001b[0m\u001b[0;34m\u001b[0m\u001b[0m\n\u001b[1;32m      8\u001b[0m         \u001b[0mself\u001b[0m\u001b[0;34m.\u001b[0m\u001b[0mroll\u001b[0m \u001b[0;34m=\u001b[0m \u001b[0mroll\u001b[0m\u001b[0;34m\u001b[0m\u001b[0;34m\u001b[0m\u001b[0m\n\u001b[0;32m----> 9\u001b[0;31m         \u001b[0mA\u001b[0m\u001b[0;34m.\u001b[0m\u001b[0m__init__\u001b[0m\u001b[0;34m(\u001b[0m\u001b[0mself\u001b[0m\u001b[0;34m,\u001b[0m \u001b[0mname\u001b[0m\u001b[0;34m)\u001b[0m\u001b[0;34m\u001b[0m\u001b[0;34m\u001b[0m\u001b[0m\n\u001b[0m\u001b[1;32m     10\u001b[0m \u001b[0;34m\u001b[0m\u001b[0m\n\u001b[1;32m     11\u001b[0m \u001b[0;34m\u001b[0m\u001b[0m\n",
            "\u001b[0;31mNameError\u001b[0m: name 'name' is not defined"
          ]
        }
      ]
    },
    {
      "cell_type": "code",
      "source": [
        "class Person(object):\n",
        "   \n",
        "  # Constructor\n",
        "  def __init__(self, name, id):\n",
        "    self.name = name\n",
        "    self.id = id\n",
        " \n",
        "  # To check if this person is an employee\n",
        "  def Display(self):\n",
        "    print(self.name3, self.id)\n",
        "\"\"\"self.name3 = VARIABLES CAN BE USED GLOBALLY THROUGHOUT CLASS\"\"\"\n",
        " \n",
        " \n",
        "class Emp(Person):\n",
        "  def __init__(self, newname2, newid):\n",
        "    self.name3 = newname2\n",
        "    self.id = newid\n",
        "    print(\"Emp class called A1\")\n",
        "\n",
        "\n",
        "  def Print(self):\n",
        "    print(\"Emp class called\")\n",
        "     \n",
        "Emp_details = Emp(\"HAYMayank\", 104)\n",
        " \n",
        "# calling parent class function\n",
        "Emp_details.Display()\n",
        "# Calling child class function\n",
        "Emp_details.Print()\n",
        "\n",
        "# Test changing a variable of a class instance\n",
        "Emp_details.name3 = \"WTFFUK!\"\n",
        "Emp_details.Display()"
      ],
      "metadata": {
        "colab": {
          "base_uri": "https://localhost:8080/"
        },
        "id": "ujVI7UAXj9yH",
        "outputId": "d8018a5b-62e4-419d-e977-8c18e31c1ef6"
      },
      "execution_count": null,
      "outputs": [
        {
          "output_type": "stream",
          "name": "stdout",
          "text": [
            "Emp class called A1\n",
            "HAYMayank 104\n",
            "Emp class called\n",
            "WTFFUK! 104\n"
          ]
        }
      ]
    },
    {
      "cell_type": "code",
      "source": [
        "# Change variables inside and outside FUNCTIONS\n",
        "\n",
        "x= \"thing\"\n",
        "\n",
        "print(x)\n",
        "\n",
        "def change():\n",
        "  global x  # lets you change the variable outside the function\n",
        "  x = \"joe\"\n",
        "  print(x)\n",
        "\n",
        "change()\n",
        "print(x)\n",
        "\n",
        "x = \"mida\"\n",
        "print(x)"
      ],
      "metadata": {
        "colab": {
          "base_uri": "https://localhost:8080/"
        },
        "id": "-gKsbJEz_lV9",
        "outputId": "266ddb93-8bad-4b26-8f1c-75b78c6d00b0"
      },
      "execution_count": null,
      "outputs": [
        {
          "output_type": "stream",
          "name": "stdout",
          "text": [
            "thing\n",
            "joe\n",
            "joe\n",
            "mida\n"
          ]
        }
      ]
    },
    {
      "cell_type": "code",
      "source": [
        "from keras.engine.base_layer_utils import training_arg_passed_to_call\n",
        "#COPY FROM YVES TENSORFLOW MODEL\n",
        "\n",
        "import pandas as pd\n",
        "import numpy as np\n",
        "raw = pd.read_csv('http://hilpisch.com/pyalgo_eikon_eod_data.csv', index_col=0, parse_dates=True).dropna()\n",
        "symbol = 'EUR='  \n",
        "data = pd.DataFrame(raw[symbol])  \n",
        "data.rename(columns={symbol: 'price'}, inplace=True)  \n",
        "data['return'] = np.log(data['price'] / data['price'].shift(1))   \n",
        "data['direction'] = np.where(data['return'] > 0, 1, 0)  \n",
        "data.dropna(inplace=True)\n",
        "\n",
        "lags = 5 \n",
        "cols = [] \n",
        "for lag in range(1, lags + 1): \n",
        "  col = f'lag_{lag}' \n",
        "  data[col] = data['return'].shift(lag) \n",
        "  cols.append(col) \n",
        "data.dropna(inplace=True)\n",
        "\n",
        "import tensorflow as tf            \n",
        "from keras.models import Sequential            \n",
        "from keras.layers import Dense            \n",
        "from keras.optimizers import Adam, RMSprop\n",
        "optimizer = Adam(learning_rate=0.0001) \n",
        "\n",
        "\n",
        "def set_seeds(seed=100):              \n",
        "  #random.seed(seed)              \n",
        "  np.random.seed(seed)\n",
        "  tf.random.set_seed(100)\n",
        "\n",
        "set_seeds() \n",
        "\n",
        "model = Sequential()  \n",
        "model.add(Dense(64, activation='relu', input_shape=(lags,)))  \n",
        "model.add(Dense(64, activation='relu'))  \n",
        "model.add(Dense(1, activation='sigmoid')) \n",
        "model.compile(optimizer=optimizer, loss='binary_crossentropy', metrics=['accuracy'])  \n",
        "\n",
        "cutoff = '2017-12-31' \n",
        "\n",
        "training_data = data[data.index < cutoff].copy()  \n",
        "\n",
        "mu, std = training_data.mean(), training_data.std()  \n",
        "\n",
        "training_data_ = (training_data - mu) / std  \n",
        "\n",
        "test_data = data[data.index >= cutoff].copy()  \n",
        "test_data_ = (test_data - mu) / std  \n",
        "\n",
        "%time \n",
        "model.fit(training_data[cols], training_data['direction'], epochs=50, verbose=False, validation_split=0.2, shuffle=False)\n",
        "model.evaluate(test_data_[cols], test_data['direction'])  #noramlized x and original y\n",
        "\n",
        "print(test_data_[cols].head(10))\n",
        "print(test_data['direction'].head(10))\n",
        "\n",
        "pred = np.where(model.predict(test_data_[cols]) > 0.5, 1, 0) \n",
        "pred[:30].flatten()\n",
        "\n",
        "test_data['prediction'] = np.where(pred > 0, 1, -1)\n",
        "test_data['strategy'] = (test_data['prediction'] * test_data['return'])  \n",
        "print(test_data[['return', 'strategy']].sum().apply(np.exp)) \n",
        "test_data[['return', 'strategy']].cumsum( ).apply(np.exp).plot(grid=True, figsize=(10, 6));\n",
        "\n",
        "\"\"\"\n",
        "print(training_data[cols].tail(10))\n",
        "print(training_data['direction'].tail(10))\n",
        "print(training_data_[cols].tail(10))\n",
        "print(training_data['direction'].tail(10))\n",
        "\"\"\"\n",
        "\n"
      ],
      "metadata": {
        "colab": {
          "base_uri": "https://localhost:8080/",
          "height": 949
        },
        "id": "RMfflyA7oMaE",
        "outputId": "8bc074f8-1c30-4201-b4cf-0d14ec60edb2"
      },
      "execution_count": null,
      "outputs": [
        {
          "output_type": "stream",
          "name": "stdout",
          "text": [
            "CPU times: user 3 µs, sys: 0 ns, total: 3 µs\n",
            "Wall time: 6.2 µs\n",
            "16/16 [==============================] - 0s 2ms/step - loss: 0.7284 - accuracy: 0.5010\n",
            "               lag_1     lag_2     lag_3     lag_4     lag_5\n",
            "Date                                                        \n",
            "2018-01-02  0.782630  0.785891  0.409698  0.030036 -0.208852\n",
            "2018-01-03  0.862199  0.782351  0.786437  0.409423  0.030171\n",
            "2018-01-04 -0.608453  0.861908  0.782898  0.786136  0.409540\n",
            "2018-01-05  0.778107 -0.608521  0.862436  0.782597  0.786235\n",
            "2018-01-08 -0.524657  0.777829 -0.607631  0.862129  0.782696\n",
            "2018-01-09 -0.860860 -0.524738  0.778377 -0.607836  0.862225\n",
            "2018-01-10 -0.403364 -0.860889 -0.523868  0.778076 -0.607671\n",
            "2018-01-11  0.155426 -0.403463 -0.859937 -0.524079  0.778176\n",
            "2018-01-12  1.212985  0.155242 -0.402623 -0.860125 -0.523918\n",
            "2018-01-16  2.138492  1.212641  0.155944 -0.402842 -0.859948\n",
            "Date\n",
            "2018-01-02    1\n",
            "2018-01-03    0\n",
            "2018-01-04    1\n",
            "2018-01-05    0\n",
            "2018-01-08    0\n",
            "2018-01-09    0\n",
            "2018-01-10    1\n",
            "2018-01-11    1\n",
            "2018-01-12    1\n",
            "2018-01-16    1\n",
            "Name: direction, dtype: int64\n",
            "16/16 [==============================] - 0s 2ms/step\n",
            "return      0.934478\n",
            "strategy    1.091414\n",
            "dtype: float64\n"
          ]
        },
        {
          "output_type": "execute_result",
          "data": {
            "text/plain": [
              "\"\\nprint(training_data[cols].tail(10))\\nprint(training_data['direction'].tail(10))\\nprint(training_data_[cols].tail(10))\\nprint(training_data['direction'].tail(10))\\n\""
            ],
            "application/vnd.google.colaboratory.intrinsic+json": {
              "type": "string"
            }
          },
          "metadata": {},
          "execution_count": 5
        },
        {
          "output_type": "display_data",
          "data": {
            "text/plain": [
              "<Figure size 720x432 with 1 Axes>"
            ],
            "image/png": "[encoded data removed]"
          },
          "metadata": {
            "needs_background": "light"
          }
        }
      ]
    }
  ]
}